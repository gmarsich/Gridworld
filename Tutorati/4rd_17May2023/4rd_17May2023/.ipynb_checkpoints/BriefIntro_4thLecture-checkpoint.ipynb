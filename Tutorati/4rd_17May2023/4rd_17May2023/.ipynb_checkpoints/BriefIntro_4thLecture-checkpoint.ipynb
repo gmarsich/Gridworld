{
 "cells": [
  {
   "cell_type": "markdown",
   "metadata": {},
   "source": [
    "# Brief Intro - 30th April 2021\n",
    "\n",
    "## Control: Finding the optimal policy, model-free.\n",
    "\n",
    "### 1st Half (45min)\n",
    "- Value evaluation for $Q_{\\pi}(s,a)$\n",
    "- Q-Learning\n",
    "- Temporal Difference Control: SARSA\n",
    "\n",
    "#### Break (15min)\n",
    "\n",
    "### 2nd Half (45min)\n",
    "- Temporal Difference Control: Expected-SARSA\n",
    "- Test convergence: time-dependent learning-rates $\\alpha$, time-dependent $\\epsilon$-greedy policies."
   ]
  }
 ],
 "metadata": {
  "kernelspec": {
   "display_name": "Python 3",
   "language": "python",
   "name": "python3"
  },
  "language_info": {
   "codemirror_mode": {
    "name": "ipython",
    "version": 3
   },
   "file_extension": ".py",
   "mimetype": "text/x-python",
   "name": "python",
   "nbconvert_exporter": "python",
   "pygments_lexer": "ipython3",
   "version": "3.8.5"
  }
 },
 "nbformat": 4,
 "nbformat_minor": 4
}
