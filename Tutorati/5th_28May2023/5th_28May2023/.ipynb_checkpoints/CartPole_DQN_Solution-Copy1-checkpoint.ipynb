{
 "cells": [
  {
   "cell_type": "markdown",
   "metadata": {},
   "source": [
    "# <center> CartPole, Deep Q-learning solution"
   ]
  },
  {
   "cell_type": "code",
   "execution_count": 4,
   "metadata": {},
   "outputs": [],
   "source": [
    "import numpy as np\n",
    "import gym"
   ]
  },
  {
   "cell_type": "markdown",
   "metadata": {},
   "source": [
    "## 1 - The learning cycle\n",
    "\n",
    "We start by defining a generic learning cycle for a gym-like environment (not specific of the CartPole problem). A \"brain\" defined later contains all the details of the learning algorithm. In this specific case we will implement a Deep Q-Learning algorithm.\n",
    "\n",
    "The pseudo-code of the learning cycle is:\n",
    "\n",
    "- for episode until the stop_rule is satisfied:\n",
    "> - reset the environment to the starting state   \n",
    "> - for each step in the episode (until any terminal state has been reached)   \n",
    "> > - choose an expolartion probability according to the *epsilon\\_greedy\\_rule*\n",
    "> > - select an action $a_t$ as defined by the learning brain, *brain.act*, and by knowing the exploration probability\n",
    "> > - execute the action $a_t$ and observe reward $r_{t+1}$ and  the new state $s_{t+1}$  \n",
    "> > - save the experience $e_t = \\{s_t,a_t,r_{t+1},s_{t+1}\\}$ in the brain memory, *brain.remember*\n",
    "> > - train the brain according to the stored experience *brain.train*"
   ]
  },
  {
   "cell_type": "code",
   "execution_count": 10,
   "metadata": {},
   "outputs": [],
   "source": [
    "def Learn(env, brain, stop_rule, epsilon_greedy_rule, print_every_ep=5):\n",
    "\n",
    "    reward_trajectory = []\n",
    "    training_step = 0 # Number of updates taht the NN performs\n",
    "    \n",
    "    while True: # Cycle over all the episodes until a stop_rule is satisfied\n",
    "        \n",
    "        if stop_rule(training_step, reward_trajectory): # Check the training end\n",
    "            break \n",
    "            \n",
    "        state = env.reset() # Reset environment\n",
    "        ep_reward = 0 # Reset the score for this episode.\n",
    "        \n",
    "        while True: # Cycle over the episode steps\n",
    "\n",
    "            explore_p = epsilon_greedy_rule(training_step) # Epsilon greedy scheduling\n",
    "            action = brain.act(state, explore_p) # Get action\n",
    "            next_state, reward, done, _ = env.step(action) # Take action\n",
    "            ep_reward += reward # Accumulate reward\n",
    "\n",
    "            if done: # Episode is completed -- failure or max number of steps reached (success)\n",
    "                reward_trajectory.append(ep_reward)\n",
    "                # Add experience to bucket (next_state is None since episode is over).\n",
    "                brain.remember(state, action, None, reward)\n",
    "                if len(reward_trajectory) % print_every_ep == 0:\n",
    "                    print(\"Episode: {}, Steps: {}, Last reward: {}, Explore P: {}\".format(len(reward_trajectory), training_step, ep_reward, explore_p))\n",
    "                break\n",
    "\n",
    "            brain.remember(state, action, next_state, reward) # Store tuple.\n",
    "            state = next_state # Advance state\n",
    "            brain.train() # Train the network from replay samples.\n",
    "            training_step += 1\n",
    "                \n",
    "    return reward_trajectory\n",
    "\n",
    "\n",
    "# This is for testing a trained model\n",
    "def Test(env, NN_keras_model, max_n_steps, render=True):\n",
    "    \n",
    "    env._max_episode_steps = max_n_steps\n",
    "    state = env.reset()\n",
    "    ep_reward = 0\n",
    "    \n",
    "    while True: # Cycle over the episode steps\n",
    "        if render:\n",
    "            env.render()\n",
    "        action = np.argmax(NN_keras_model.predict(np.array([state]))) # Get action without exploration\n",
    "        next_state, reward, done, _ = env.step(action) # Take action\n",
    "        ep_reward += reward # Accumulate reward\n",
    "        state = next_state # Advance state\n",
    "        if done: # Episode is completed -- failure or max number of steps reached (success)\n",
    "            print(\"Total reward: {}\".format(ep_reward))\n",
    "            break"
   ]
  },
  {
   "cell_type": "markdown",
   "metadata": {},
   "source": [
    "## 2 - The neural network\n",
    "The contiuous state space of the CartPole environemnt does not allow for a tabular learning of the quality function.\n",
    "A typical approach in such cases is to use a neural network as a funcion approximator for the quality function, which has the state as input (4 input nodes, corresponding to the 4 dimensions of the state space), and returns the quality of each action as output (2 output nodes, i.e. push left or push right).\n",
    "\n",
    "<center> $Q(\\; \\vec{s} \\;, \\text{push left}) \\sim \\text{first output node of the neural network}(\\; \\vec{s}\\; )$\n",
    "    \n",
    "<center> $Q(\\; \\vec{s} \\;, \\text{push right}) \\sim \\text{second output node of the neural network}(\\; \\vec{s}\\; )$"
   ]
  },
  {
   "cell_type": "code",
   "execution_count": 6,
   "metadata": {},
   "outputs": [],
   "source": [
    "from keras.layers import Input, Dense\n",
    "from keras.optimizers import Adam\n",
    "from keras.models import Model\n",
    "from keras import optimizers\n",
    "\n",
    "def build_NN(input_dim, output_dim, adam_learning_rate):\n",
    "    \"\"\"\n",
    "    Bulding the neural network as a keras model. The network has specified number of input and output nodes.\n",
    "    Is has 2 hidden layers composed of 128 units. All the layers are dense.\n",
    "    Activation functions are relu for the hidden layers , and linear for the output layer.\n",
    "    The loss function that the network tries to minimize is a mean squared error.\n",
    "    The weights are updated with the ADAM optimizer (an improvement of GD which \n",
    "    also considers information about the second moment of the error to adaptively change the \n",
    "    learning rate).\n",
    "    \"\"\"\n",
    "    \n",
    "    # Define the four layers of the neural network\n",
    "    input_layer = Input(shape=(input_dim,))\n",
    "    h1 = Dense(100, activation=\"relu\")(input_layer)\n",
    "    h2 = Dense(100, activation=\"relu\")(h1)        \n",
    "    output_layer = Dense(output_dim, activation=\"linear\")(h2)\n",
    "    \n",
    "    # Putting the layers together and specifying the loss function and the GD algorithm.\n",
    "    model = Model(input_layer, output_layer) \n",
    "    model.compile(loss=\"mse\", optimizer=Adam(lr=adam_learning_rate))\n",
    "    \n",
    "    return model"
   ]
  },
  {
   "cell_type": "markdown",
   "metadata": {},
   "source": [
    "The two methods that you need to train the network in our reinforcement learning setting are *predict* and *fit*. For the documentation see: https://keras.io/models/model/.\n",
    "\n",
    "*Predict(state)* returns the output associated to the input, i.e. the quality of the two actions given the state, according to the current configuration of weights.\n",
    "\n",
    "*Fit(state, $\\hat{Q}$)* trains the network given a list of inputs / states and their labels / estimated Q values"
   ]
  },
  {
   "cell_type": "markdown",
   "metadata": {},
   "source": [
    "## 3 - The Deep Q-learning brain\n",
    "\n",
    "The following class will deifine a proper object which will be passed to the learning cycle above and contains the deep Q-learning algorithm.\n",
    "\n",
    "The following functions of the brain are called at different moments of the learning cycle (as described above):\n",
    "- *act(state, $\\epsilon$)*: returns the action given the state and the episode. There is an epsilon-greedy exploration: with probability $\\epsilon$ the action is chosen at random, otherwise the argmax of the quality is selected.\n",
    "- *remember(state, action, next_state, reward)*: add to the memory the tuple of observation. Only the last $\\text{mem_size}$ observations are stored.\n",
    "- *train()*:\n",
    "> - sample a mini-batch of experiences uniformly from the memory. Minibatch size: $\\text{batch_size}$\n",
    "> - for each experience compute the new Q-learning estimate: $\\hat{Q} = r + \\gamma max_{a'} Q(s',a',\\textbf{w})$ (you will need the *Predict* method of the keras NN to get all the $Q$s)   \n",
    "> - SGD step to adjust the $\\textbf{w}$ with  $L(\\textbf{w}) = \\frac{1}{2}(\\hat{Q} - Q)^2$ (using the *Fit* method)"
   ]
  },
  {
   "cell_type": "code",
   "execution_count": 7,
   "metadata": {},
   "outputs": [],
   "source": [
    "from collections import deque\n",
    "\n",
    "\n",
    "class DQN_Brain:\n",
    "    \n",
    "    def __init__(self, input_dim, output_dim, learning_rate=.005, mem_size=5000, batch_size=64, gamma=1.):\n",
    "        \n",
    "        self.input_dim = input_dim\n",
    "        self.output_dim = output_dim\n",
    "        self.batch_size = batch_size\n",
    "        self.gamma = gamma\n",
    "        self.memory = deque(maxlen=mem_size) # Define our experience replay bucket as a deque with size mem_size.\n",
    "        self.model = build_NN(input_dim, output_dim, learning_rate)\n",
    "        \n",
    "        \n",
    "    def act(self, state, explore_p):\n",
    "        # With probability explore_p, randomly pick an action\n",
    "        if explore_p > np.random.rand():\n",
    "            return np.random.randint(self.output_dim)\n",
    "        # Otherwise, find the action that should maximize future rewards according to our current Q-function policy.\n",
    "        else:\n",
    "            return np.argmax(self.model.predict(np.array([state])))\n",
    "            \n",
    "        \n",
    "    def remember(self, state, action, next_state, reward):\n",
    "        # Create a blank state. Serves as next_state if this was the last experience tuple before the epoch ended.\n",
    "        terminal_state = np.array([None]*self.input_dim) \n",
    "        # Add experience tuple to bucket. Bucket is a deque, so older tuple falls out on overflow.\n",
    "        self.memory.append((state, action, terminal_state if next_state is None else next_state, reward))\n",
    "        \n",
    "        \n",
    "    def train(self):\n",
    "\n",
    "        # Only conduct a replay if we have enough experience to sample from.\n",
    "        if len(self.memory) < self.batch_size:\n",
    "            return\n",
    "\n",
    "        # Pick random indices from the bucket without replacement. batch_size determines number of samples.\n",
    "        idx = np.random.choice(len(self.memory), size=self.batch_size, replace=False)\n",
    "        minibatch = np.array(self.memory)[idx]\n",
    "\n",
    "        # Extract the experience from our sample\n",
    "        states = np.array(list(minibatch[:,0]))\n",
    "        actions = minibatch[:,1]\n",
    "        rewards = np.array(minibatch[:,3])\n",
    "        next_states = np.array(list(minibatch[:,2]))\n",
    "        \n",
    "        # Compute a new estimate for each Q-value\n",
    "        estimate = rewards + self.gamma * np.amax(self.model.predict(next_states), axis=1)\n",
    "\n",
    "        # Get the network's current Q-value predictions for the states in this sample.\n",
    "        predictions = self.model.predict(states)\n",
    "        # Update the network's predictions with the new predictions we have.\n",
    "        for i in range(len(predictions)):\n",
    "            # Flag states as terminal (the last state before a epoch ended).\n",
    "            terminal_state = (next_states[i] == np.array([None]*self.input_dim)).all()\n",
    "            # Update each state's Q-value prediction with our new estimate.\n",
    "            # Terminal states have no future, so set their Q-value to their immediate reward.\n",
    "            predictions[i][actions[i]] = rewards[i] if terminal_state else estimate[i]\n",
    "\n",
    "        # Propagate the new predictions through our network.\n",
    "        self.model.fit(states, predictions, epochs=1, verbose=0)"
   ]
  },
  {
   "cell_type": "markdown",
   "metadata": {},
   "source": [
    "# <center> Learning\n",
    "    \n",
    "With the right recipe of hyperparameters, the cartPole should converge to a good strategy for balancing the pole"
   ]
  },
  {
   "cell_type": "code",
   "execution_count": 8,
   "metadata": {},
   "outputs": [],
   "source": [
    "# Hyperparameters\n",
    "max_ep_step = 300\n",
    "batch_size = 64\n",
    "gamma = 0.98\n",
    "learning_rate = 0.001\n",
    "\n",
    "# Epsilon greedy rule\n",
    "\n",
    "# The expolration probability decays as the power -2 of the number of training steps.\n",
    "# After a chosen number of steps the exploration probability fixes on a small value\n",
    "def eps_rule_sq_decay(training_step):\n",
    "    exp = 1.6\n",
    "    #if training_step > 100000:\n",
    "    #    return (100 / 520)**(exp)\n",
    "    return (100 / (100 + training_step*0.01))**(exp)\n",
    "\n",
    "\n",
    "# Stop rules\n",
    "\n",
    "# The learning stops if the number of training steps is larger than a chosen threshold\n",
    "def stop_after_steps(training_step, reward_trajectory):\n",
    "    if training_step > 30000:\n",
    "        return True\n",
    "    return False\n",
    "\n",
    "# The learning stops if the average reward is close to the maximum after 10 consecutive episodes.\n",
    "# Use this rule only if you know that the algorithm will learn at some point!\n",
    "def stop_if_success(training_step, reward_trajectory):\n",
    "    if training_step > 10000:\n",
    "        if (np.mean(reward_trajectory[-50:]) > max_ep_step-20).all() and reward_trajectory[-1] == max_ep_step :\n",
    "            return True\n",
    "    return False"
   ]
  },
  {
   "cell_type": "code",
   "execution_count": 39,
   "metadata": {},
   "outputs": [
    {
     "name": "stdout",
     "output_type": "stream",
     "text": [
      "Episode: 20, Steps: 410, Last reward: 27.0, Explore P: 0.9377322078700748\n",
      "Episode: 40, Steps: 869, Last reward: 25.0, Explore P: 0.8751785361365467\n",
      "Episode: 60, Steps: 1391, Last reward: 78.0, Explore P: 0.8118971876123123\n",
      "Episode: 80, Steps: 2353, Last reward: 46.0, Explore P: 0.7131224252445771\n",
      "Episode: 100, Steps: 3221, Last reward: 65.0, Explore P: 0.6397011208013013\n",
      "Episode: 120, Steps: 4231, Last reward: 44.0, Explore P: 0.5686215700416029\n",
      "Episode: 140, Steps: 6151, Last reward: 32.0, Explore P: 0.46438793984587906\n",
      "Episode: 160, Steps: 7925, Last reward: 25.0, Explore P: 0.39306587134760124\n",
      "Episode: 180, Steps: 9795, Last reward: 41.0, Explore P: 0.33535994539904923\n",
      "Episode: 200, Steps: 11573, Last reward: 174.0, Explore P: 0.2922423358322313\n",
      "Episode: 220, Steps: 14252, Last reward: 121.0, Explore P: 0.24232817114840408\n",
      "Episode: 240, Steps: 16609, Last reward: 133.0, Explore P: 0.20890763587910735\n",
      "Episode: 260, Steps: 19483, Last reward: 136.0, Explore P: 0.17729044254835438\n",
      "Episode: 280, Steps: 23665, Last reward: 300.0, Explore P: 0.14338846313271794\n",
      "Episode: 300, Steps: 28196, Last reward: 82.0, Explore P: 0.11715784765845476\n",
      "Episode: 320, Steps: 32654, Last reward: 19.0, Explore P: 0.09818934809035455\n",
      "Episode: 340, Steps: 37231, Last reward: 300.0, Explore P: 0.08341354423723377\n",
      "Episode: 360, Steps: 42246, Last reward: 300.0, Explore P: 0.07097658934597688\n",
      "Episode: 380, Steps: 47165, Last reward: 300.0, Explore P: 0.06145987427017605\n",
      "Episode: 400, Steps: 52368, Last reward: 300.0, Explore P: 0.05346395617256181\n",
      "Episode: 420, Steps: 57562, Last reward: 300.0, Explore P: 0.04704094139624552\n",
      "Episode: 440, Steps: 63080, Last reward: 268.0, Explore P: 0.04148798458972552\n",
      "Episode: 460, Steps: 68337, Last reward: 300.0, Explore P: 0.0371238409022291\n",
      "Episode: 480, Steps: 72429, Last reward: 103.0, Explore P: 0.03421936531094639\n",
      "Episode: 500, Steps: 77450, Last reward: 217.0, Explore P: 0.031130371102185965\n",
      "Episode: 520, Steps: 81986, Last reward: 300.0, Explore P: 0.02871079548328071\n",
      "Episode: 540, Steps: 87605, Last reward: 125.0, Explore P: 0.026112274031388834\n",
      "Episode: 560, Steps: 92974, Last reward: 300.0, Explore P: 0.02396822467108572\n",
      "Episode: 580, Steps: 98346, Last reward: 265.0, Explore P: 0.022095273832636448\n",
      "Episode: 600, Steps: 103499, Last reward: 300.0, Explore P: 0.020512223683316486\n",
      "Episode: 620, Steps: 108643, Last reward: 166.0, Explore P: 0.01910788454405988\n",
      "Episode: 640, Steps: 113572, Last reward: 300.0, Explore P: 0.017903085214439316\n",
      "Episode: 660, Steps: 118428, Last reward: 300.0, Explore P: 0.016832338218674445\n",
      "Episode: 680, Steps: 123993, Last reward: 145.0, Explore P: 0.01572782335540572\n",
      "Episode: 700, Steps: 128466, Last reward: 300.0, Explore P: 0.01492282223562607\n",
      "Episode: 720, Steps: 134029, Last reward: 300.0, Explore P: 0.014011353407851672\n",
      "Episode: 740, Steps: 137877, Last reward: 300.0, Explore P: 0.013432566205219591\n",
      "Episode: 760, Steps: 143802, Last reward: 300.0, Explore P: 0.012614232378637097\n",
      "Episode: 780, Steps: 149403, Last reward: 300.0, Explore P: 0.011912574095770904\n",
      "Episode: 800, Steps: 154368, Last reward: 300.0, Explore P: 0.011342071135234107\n",
      "Episode: 820, Steps: 160212, Last reward: 300.0, Explore P: 0.010725454885335496\n",
      "Episode: 840, Steps: 165567, Last reward: 300.0, Explore P: 0.010206841691247024\n"
     ]
    }
   ],
   "source": [
    "env = gym.make(\"CartPole-v1\")\n",
    "env._max_episode_steps = max_ep_step\n",
    "\n",
    "brain = DQN_Brain(input_dim=4, output_dim=2, batch_size=batch_size, gamma=gamma, learning_rate=learning_rate)\n",
    "total_R = Learn(env, brain, stop_if_success, eps_rule_sq_decay, print_every_ep=20)\n",
    "\n",
    "env.close()"
   ]
  },
  {
   "cell_type": "markdown",
   "metadata": {},
   "source": [
    "Plotting the cumulative-reward-per-episode trajectory"
   ]
  },
  {
   "cell_type": "code",
   "execution_count": 41,
   "metadata": {},
   "outputs": [
    {
     "data": {
      "text/plain": [
       "[<matplotlib.lines.Line2D at 0x7f5406caa860>]"
      ]
     },
     "execution_count": 41,
     "metadata": {},
     "output_type": "execute_result"
    },
    {
     "data": {
      "image/png": "[encoded data removed]",
      "text/plain": [
       "<Figure size 432x288 with 1 Axes>"
      ]
     },
     "metadata": {
      "needs_background": "light"
     },
     "output_type": "display_data"
    }
   ],
   "source": [
    "from matplotlib import pyplot as plt\n",
    "\n",
    "plt.xlabel('N episodes')\n",
    "plt.ylim(0, 310)\n",
    "plt.ylabel('Total reward per episode')\n",
    "plt.plot(total_R, color='blue')"
   ]
  },
  {
   "cell_type": "markdown",
   "metadata": {},
   "source": [
    "### Trying the strategy for a longer period"
   ]
  },
  {
   "cell_type": "code",
   "execution_count": 46,
   "metadata": {},
   "outputs": [
    {
     "name": "stdout",
     "output_type": "stream",
     "text": [
      "Total reward: 10000.0\n"
     ]
    }
   ],
   "source": [
    "env = gym.make(\"CartPole-v1\")\n",
    "env.reset()\n",
    "# The test function will also render the cartPole\n",
    "Test(env, brain.model, 10000, render=True)\n",
    "\n",
    "env.close()"
   ]
  },
  {
   "cell_type": "markdown",
   "metadata": {},
   "source": [
    "### Saving the model"
   ]
  },
  {
   "cell_type": "code",
   "execution_count": 26,
   "metadata": {},
   "outputs": [],
   "source": [
    "def save_NN(model, directory, name):\n",
    "    # serialize model to JSON\n",
    "    model_json = model.to_json()\n",
    "    with open(directory + name+ '.json', \"w\") as json_file:\n",
    "        json_file.write(model_json)\n",
    "    # serialize weights to HDF5\n",
    "    model.save_weights(directory + name + '.h5')\n",
    "    print(\"Saved model to disk\")\n",
    "    \n",
    "#save_NN(brain.model, '', 'keras_model')"
   ]
  },
  {
   "cell_type": "markdown",
   "metadata": {},
   "source": [
    "## A trained model"
   ]
  },
  {
   "cell_type": "code",
   "execution_count": 1,
   "metadata": {},
   "outputs": [
    {
     "name": "stderr",
     "output_type": "stream",
     "text": [
      "Using TensorFlow backend.\n"
     ]
    }
   ],
   "source": [
    "from keras.models import model_from_json\n",
    "\n",
    "def load_NN(directory, name):\n",
    "    # load json and create model\n",
    "    json_file = open(directory + name+ '.json', 'r')\n",
    "    loaded_model_json = json_file.read()\n",
    "    json_file.close()\n",
    "    loaded_model = model_from_json(loaded_model_json)\n",
    "    # load weights into new model\n",
    "    loaded_model.load_weights(directory + name + '.h5')\n",
    "    print(\"Loaded model from disk\")\n",
    "    return loaded_model"
   ]
  },
  {
   "cell_type": "code",
   "execution_count": 2,
   "metadata": {},
   "outputs": [
    {
     "name": "stdout",
     "output_type": "stream",
     "text": [
      "Loaded model from disk\n"
     ]
    }
   ],
   "source": [
    "trained_model = load_NN('', 'trained_keras_model')"
   ]
  },
  {
   "cell_type": "code",
   "execution_count": 11,
   "metadata": {},
   "outputs": [
    {
     "name": "stdout",
     "output_type": "stream",
     "text": [
      "Total reward: 10000.0\n"
     ]
    }
   ],
   "source": [
    "env = gym.make(\"CartPole-v1\")\n",
    "env.reset()\n",
    "\n",
    "Test(env, trained_model, 10000, render=True)"
   ]
  },
  {
   "cell_type": "code",
   "execution_count": null,
   "metadata": {},
   "outputs": [],
   "source": []
  }
 ],
 "metadata": {
  "kernelspec": {
   "display_name": "Python 3",
   "language": "python",
   "name": "python3"
  },
  "language_info": {
   "codemirror_mode": {
    "name": "ipython",
    "version": 3
   },
   "file_extension": ".py",
   "mimetype": "text/x-python",
   "name": "python",
   "nbconvert_exporter": "python",
   "pygments_lexer": "ipython3",
   "version": "3.8.5"
  }
 },
 "nbformat": 4,
 "nbformat_minor": 2
}
