{
 "cells": [
  {
   "cell_type": "markdown",
   "metadata": {},
   "source": [
    "# RL - notebook - plan \n",
    "(In every file, i will specify if it is a notebook or a py. I do this in order to make the file managing in the drive easier.) \\\n",
    "This notebook cointains the plan of the work and the parallelisation."
   ]
  },
  {
   "cell_type": "markdown",
   "metadata": {},
   "source": [
    "## Index\n",
    "* Legenda\n",
    "* Content"
   ]
  },
  {
   "cell_type": "markdown",
   "metadata": {},
   "source": [
    "## Legenda \n",
    "* \\#: main tilte \n",
    "* \\#\\#: subtitles (elencated in the index) \n",
    "* \\#\\#\\#: sub sub titles \n",
    "* SL: Samuele Lippolis\n",
    "* GM: Gaia Marsich \n",
    "* $sj$: serial job (SL and GM did the same thing at the same time)\n",
    "* $pj$: parallel job (only one among SL and GM did it)\n",
    "* LP: linear programming\n",
    "* BOE: belmann optimality operator"
   ]
  },
  {
   "cell_type": "markdown",
   "metadata": {},
   "source": [
    "## Plan\n",
    "1. Description\n",
    "    * MDP \n",
    "    * Grid world\n",
    "    * Value iteration \n",
    "    * Linear programming (LP)\n",
    "2. Solving \n",
    "    * Grid world environment \n",
    "    * Grid world with value iteration\n",
    "    * Grid world with LP\n",
    "3. Comparison\n",
    "    * Practical (on tests)\n",
    "        * Quality terms \n",
    "        * Time term\n",
    "    * Theoretical: why does LP coincide with BOE in terms of solutions?"
   ]
  }
 ],
 "metadata": {
  "language_info": {
   "name": "python"
  }
 },
 "nbformat": 4,
 "nbformat_minor": 2
}
